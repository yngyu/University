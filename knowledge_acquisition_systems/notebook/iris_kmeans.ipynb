{
 "cells": [
  {
   "cell_type": "code",
   "execution_count": 1,
   "metadata": {},
   "outputs": [
    {
     "data": {
      "image/png": "[encoded data removed]",
      "text/plain": [
       "<Figure size 864x432 with 1 Axes>"
      ]
     },
     "metadata": {
      "needs_background": "light"
     },
     "output_type": "display_data"
    }
   ],
   "source": [
    "import matplotlib as mpl\n",
    "import matplotlib.pyplot as plt\n",
    "\n",
    "import numpy as np\n",
    "\n",
    "from sklearn import datasets\n",
    "from sklearn.cluster import KMeans\n",
    "from sklearn.model_selection import train_test_split, StratifiedKFold\n",
    "import itertools\n",
    "\n",
    "K_FOLD_SPLITS = 4\n",
    "\n",
    "iris_datasets = datasets.load_iris()\n",
    "\n",
    "n_features = len(iris_datasets.feature_names)\n",
    "n_classes = len(iris_datasets.target_names)\n",
    "\n",
    "colors = [\"C\" + str(i) for i in range(n_classes)]\n",
    "\n",
    "plt.figure(figsize=(12, 6))\n",
    "\n",
    "skf = StratifiedKFold(n_splits=K_FOLD_SPLITS, shuffle=True)\n",
    "\n",
    "train_accuracy_array = np.zeros(K_FOLD_SPLITS)\n",
    "test_accuracy_array = np.zeros(K_FOLD_SPLITS)\n",
    "\n",
    "for times, (train_index, test_index) in enumerate(\n",
    "    skf.split(iris_datasets.data, iris_datasets.target)\n",
    "):\n",
    "    X_train, X_test = iris_datasets.data[train_index], iris_datasets.data[test_index]\n",
    "    y_train, y_test = (\n",
    "        iris_datasets.target[train_index],\n",
    "        iris_datasets.target[test_index],\n",
    "    )\n",
    "\n",
    "    kmeans_ = KMeans(n_clusters=n_classes)\n",
    "    kmeans_.fit(X_train)\n",
    "\n",
    "    moto = np.arange(n_classes)\n",
    "    max_correct = 0\n",
    "    correct_permutation = []\n",
    "\n",
    "    for l in itertools.permutations(moto, 3):\n",
    "        tmp_sum = 0\n",
    "        for i in range(n_classes):\n",
    "            index = np.where((y_train == i) & (kmeans_.labels_ == l[i]))\n",
    "            tmp_sum += index[0].size\n",
    "        if tmp_sum > max_correct:\n",
    "            max_correct = tmp_sum\n",
    "            correct_permutation = l\n",
    "\n",
    "    train_accuracy_array[times] = max_correct / y_train.size\n",
    "\n",
    "    y_test_predict = kmeans_.predict(X_test)\n",
    "\n",
    "    correct_num = 0\n",
    "    for i in range(n_classes):\n",
    "        index = np.where((y_test == i) & (y_test_predict == correct_permutation[i]))\n",
    "        correct_num += index[0].size\n",
    "    test_accuracy_array[times] = correct_num / y_test.size\n",
    "\n",
    "    if times == 0:\n",
    "        for n, color in enumerate(colors):\n",
    "            data = X_train[kmeans_.labels_ == correct_permutation[n]]\n",
    "            plt.scatter(data[:, 0], data[:, 1], color=color)\n",
    "train_accuracy = train_accuracy_array.mean()*100.0\n",
    "test_accuracy = test_accuracy_array.mean()*100.0\n",
    "h = plt.subplot(1, 1, 1)\n",
    "plt.text(0.05, 0.9, \"Train accuracy: %.1f\" % train_accuracy, transform=h.transAxes)\n",
    "plt.text(0.05, 0.8, \"Test accuracy: %.1f\" % test_accuracy, transform=h.transAxes)\n",
    "\n",
    "plt.show()"
   ]
  },
  {
   "cell_type": "code",
   "execution_count": null,
   "metadata": {},
   "outputs": [],
   "source": []
  }
 ],
 "metadata": {
  "interpreter": {
   "hash": "4a7edb074ae2bcd02b50783acd4344ccf4efe9bad989f473fdb5769e41b4a43a"
  },
  "kernelspec": {
   "display_name": "Python 3.7.8 64-bit ('.venv': pipenv)",
   "language": "python",
   "name": "python3"
  },
  "language_info": {
   "codemirror_mode": {
    "name": "ipython",
    "version": 3
   },
   "file_extension": ".py",
   "mimetype": "text/x-python",
   "name": "python",
   "nbconvert_exporter": "python",
   "pygments_lexer": "ipython3",
   "version": "3.9.7"
  },
  "orig_nbformat": 4
 },
 "nbformat": 4,
 "nbformat_minor": 2
}
